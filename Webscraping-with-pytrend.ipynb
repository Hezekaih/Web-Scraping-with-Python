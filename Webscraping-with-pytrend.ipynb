{
 "cells": [
  {
   "cell_type": "markdown",
   "id": "36b8864c",
   "metadata": {},
   "source": [
    "# About this project\n",
    "\n",
    "In this project I'll be using Python to connect to Google Trends API using Pytrends for webscraping, iterate the data collection over the list of keywords and integrate them using a keyword as reference, while visualizing the results with Pandas and Matplotlib. The Keywords are: Business Analysis, Data Science, Data Analysis between January 25-2021 and January 25-2022 in Nigeria.\n",
    "### Aknowledgement\n",
    "Before going through this analysis, I'd really appreciate one of my mentor Jonathan Ogwumike. He really motivates me to go on and do more projects with python."
   ]
  },
  {
   "cell_type": "markdown",
   "id": "7ab214f0",
   "metadata": {},
   "source": [
    "The pytrends API has about nine methods. For this project I’ll be using the following:\n",
    "\n",
    "- Interest Over Time: returns historical, indexed data for when the keyword was searched most as shown on Google Trends’ Interest Over Time section.\n",
    "- Interest by Region: returns data for where the keyword is most searched as shown on Google Trends’ Interest by Region section.\n",
    "- Related Queries: returns data for the related keywords to a provided keyword shown on Google Trends’ Related Queries section.\n",
    "- Suggestions: returns a list of additional suggested keywords that can be used to refine a trend search."
   ]
  },
  {
   "cell_type": "markdown",
   "id": "c1d75cf4",
   "metadata": {},
   "source": [
    "## importing the library"
   ]
  },
  {
   "cell_type": "code",
   "execution_count": 1,
   "id": "744632ab",
   "metadata": {},
   "outputs": [
    {
     "name": "stdout",
     "output_type": "stream",
     "text": [
      "Requirement already satisfied: pytrends in c:\\programdata\\anaconda3\\lib\\site-packages (4.7.3)Note: you may need to restart the kernel to use updated packages.\n",
      "Requirement already satisfied: lxml in c:\\programdata\\anaconda3\\lib\\site-packages (from pytrends) (4.6.3)\n",
      "Requirement already satisfied: pandas>=0.25 in c:\\programdata\\anaconda3\\lib\\site-packages (from pytrends) (1.2.4)\n",
      "Requirement already satisfied: requests in c:\\programdata\\anaconda3\\lib\\site-packages (from pytrends) (2.25.1)\n",
      "Requirement already satisfied: python-dateutil>=2.7.3 in c:\\programdata\\anaconda3\\lib\\site-packages (from pandas>=0.25->pytrends) (2.8.1)\n",
      "Requirement already satisfied: pytz>=2017.3 in c:\\programdata\\anaconda3\\lib\\site-packages (from pandas>=0.25->pytrends) (2021.1)\n",
      "Requirement already satisfied: numpy>=1.16.5 in c:\\programdata\\anaconda3\\lib\\site-packages (from pandas>=0.25->pytrends) (1.20.1)\n",
      "Requirement already satisfied: six>=1.5 in c:\\programdata\\anaconda3\\lib\\site-packages (from python-dateutil>=2.7.3->pandas>=0.25->pytrends) (1.15.0)\n",
      "Requirement already satisfied: idna<3,>=2.5 in c:\\programdata\\anaconda3\\lib\\site-packages (from requests->pytrends) (2.10)\n",
      "Requirement already satisfied: certifi>=2017.4.17 in c:\\programdata\\anaconda3\\lib\\site-packages (from requests->pytrends) (2020.12.5)\n",
      "Requirement already satisfied: urllib3<1.27,>=1.21.1 in c:\\programdata\\anaconda3\\lib\\site-packages (from requests->pytrends) (1.26.4)\n",
      "Requirement already satisfied: chardet<5,>=3.0.2 in c:\\programdata\\anaconda3\\lib\\site-packages (from requests->pytrends) (4.0.0)\n",
      "\n"
     ]
    }
   ],
   "source": [
    "\n",
    "pip install pytrends"
   ]
  },
  {
   "cell_type": "markdown",
   "id": "61c12e58",
   "metadata": {},
   "source": [
    "## Building Functions"
   ]
  },
  {
   "cell_type": "code",
   "execution_count": 2,
   "id": "a08d6625",
   "metadata": {},
   "outputs": [],
   "source": [
    "from pytrends.request import TrendReq\n",
    "\n",
    "#make a pytrends object to request Google Trends data\n",
    "pytrends = TrendReq(hl='en-US', tz=360, timeout=(10, 25))\n",
    "                \n",
    "#extract data about weekly searches of certain keywords\n",
    "keywords = [\"Business Analysis\", \"Data Science\", \"Data Analysis\"]\n",
    "pytrends.build_payload(keywords, timeframe='today 12-m', geo='NG', gprop='')\n",
    "\n"
   ]
  },
  {
   "cell_type": "markdown",
   "id": "844e63ca",
   "metadata": {},
   "source": [
    "## Interest Over Time"
   ]
  },
  {
   "cell_type": "code",
   "execution_count": 3,
   "id": "18c6802c",
   "metadata": {},
   "outputs": [],
   "source": [
    "\n",
    "#store kewords data\n",
    "data = pytrends.interest_over_time()\n",
    "data = data.drop('isPartial', axis=1)\n",
    "\n",
    "\n"
   ]
  },
  {
   "cell_type": "markdown",
   "id": "213bb599",
   "metadata": {},
   "source": [
    "# Inspecting the Datasets"
   ]
  },
  {
   "cell_type": "code",
   "execution_count": 4,
   "id": "76161f30",
   "metadata": {},
   "outputs": [
    {
     "name": "stdout",
     "output_type": "stream",
     "text": [
      "The dataset has:  51  columns \n",
      "The dataset has:  3  rows \n"
     ]
    }
   ],
   "source": [
    "print(\"The dataset has: \", data.shape[0], \" columns \")\n",
    "\n",
    "print(\"The dataset has: \", data.shape[1], \" rows \")\n",
    "\n"
   ]
  },
  {
   "cell_type": "code",
   "execution_count": 5,
   "id": "8c9e3471",
   "metadata": {},
   "outputs": [
    {
     "data": {
      "text/html": [
       "<div>\n",
       "<style scoped>\n",
       "    .dataframe tbody tr th:only-of-type {\n",
       "        vertical-align: middle;\n",
       "    }\n",
       "\n",
       "    .dataframe tbody tr th {\n",
       "        vertical-align: top;\n",
       "    }\n",
       "\n",
       "    .dataframe thead th {\n",
       "        text-align: right;\n",
       "    }\n",
       "</style>\n",
       "<table border=\"1\" class=\"dataframe\">\n",
       "  <thead>\n",
       "    <tr style=\"text-align: right;\">\n",
       "      <th></th>\n",
       "      <th>Business Analysis</th>\n",
       "      <th>Data Science</th>\n",
       "      <th>Data Analysis</th>\n",
       "    </tr>\n",
       "    <tr>\n",
       "      <th>date</th>\n",
       "      <th></th>\n",
       "      <th></th>\n",
       "      <th></th>\n",
       "    </tr>\n",
       "  </thead>\n",
       "  <tbody>\n",
       "    <tr>\n",
       "      <th>2021-01-31</th>\n",
       "      <td>18</td>\n",
       "      <td>36</td>\n",
       "      <td>18</td>\n",
       "    </tr>\n",
       "    <tr>\n",
       "      <th>2021-02-07</th>\n",
       "      <td>18</td>\n",
       "      <td>24</td>\n",
       "      <td>30</td>\n",
       "    </tr>\n",
       "    <tr>\n",
       "      <th>2021-02-14</th>\n",
       "      <td>36</td>\n",
       "      <td>24</td>\n",
       "      <td>42</td>\n",
       "    </tr>\n",
       "    <tr>\n",
       "      <th>2021-02-21</th>\n",
       "      <td>24</td>\n",
       "      <td>12</td>\n",
       "      <td>41</td>\n",
       "    </tr>\n",
       "    <tr>\n",
       "      <th>2021-02-28</th>\n",
       "      <td>18</td>\n",
       "      <td>36</td>\n",
       "      <td>36</td>\n",
       "    </tr>\n",
       "    <tr>\n",
       "      <th>2021-03-07</th>\n",
       "      <td>23</td>\n",
       "      <td>69</td>\n",
       "      <td>34</td>\n",
       "    </tr>\n",
       "    <tr>\n",
       "      <th>2021-03-14</th>\n",
       "      <td>16</td>\n",
       "      <td>22</td>\n",
       "      <td>59</td>\n",
       "    </tr>\n",
       "    <tr>\n",
       "      <th>2021-03-21</th>\n",
       "      <td>12</td>\n",
       "      <td>24</td>\n",
       "      <td>72</td>\n",
       "    </tr>\n",
       "    <tr>\n",
       "      <th>2021-03-28</th>\n",
       "      <td>18</td>\n",
       "      <td>31</td>\n",
       "      <td>74</td>\n",
       "    </tr>\n",
       "    <tr>\n",
       "      <th>2021-04-04</th>\n",
       "      <td>6</td>\n",
       "      <td>42</td>\n",
       "      <td>66</td>\n",
       "    </tr>\n",
       "    <tr>\n",
       "      <th>2021-04-11</th>\n",
       "      <td>36</td>\n",
       "      <td>18</td>\n",
       "      <td>42</td>\n",
       "    </tr>\n",
       "    <tr>\n",
       "      <th>2021-04-18</th>\n",
       "      <td>12</td>\n",
       "      <td>12</td>\n",
       "      <td>41</td>\n",
       "    </tr>\n",
       "    <tr>\n",
       "      <th>2021-04-25</th>\n",
       "      <td>17</td>\n",
       "      <td>40</td>\n",
       "      <td>52</td>\n",
       "    </tr>\n",
       "    <tr>\n",
       "      <th>2021-05-02</th>\n",
       "      <td>11</td>\n",
       "      <td>23</td>\n",
       "      <td>23</td>\n",
       "    </tr>\n",
       "    <tr>\n",
       "      <th>2021-05-09</th>\n",
       "      <td>11</td>\n",
       "      <td>45</td>\n",
       "      <td>45</td>\n",
       "    </tr>\n",
       "  </tbody>\n",
       "</table>\n",
       "</div>"
      ],
      "text/plain": [
       "            Business Analysis  Data Science  Data Analysis\n",
       "date                                                      \n",
       "2021-01-31                 18            36             18\n",
       "2021-02-07                 18            24             30\n",
       "2021-02-14                 36            24             42\n",
       "2021-02-21                 24            12             41\n",
       "2021-02-28                 18            36             36\n",
       "2021-03-07                 23            69             34\n",
       "2021-03-14                 16            22             59\n",
       "2021-03-21                 12            24             72\n",
       "2021-03-28                 18            31             74\n",
       "2021-04-04                  6            42             66\n",
       "2021-04-11                 36            18             42\n",
       "2021-04-18                 12            12             41\n",
       "2021-04-25                 17            40             52\n",
       "2021-05-02                 11            23             23\n",
       "2021-05-09                 11            45             45"
      ]
     },
     "execution_count": 5,
     "metadata": {},
     "output_type": "execute_result"
    }
   ],
   "source": [
    "data.head(15) #inspecting the head of the Dataset"
   ]
  },
  {
   "cell_type": "code",
   "execution_count": 6,
   "id": "e1278924",
   "metadata": {},
   "outputs": [
    {
     "data": {
      "text/html": [
       "<div>\n",
       "<style scoped>\n",
       "    .dataframe tbody tr th:only-of-type {\n",
       "        vertical-align: middle;\n",
       "    }\n",
       "\n",
       "    .dataframe tbody tr th {\n",
       "        vertical-align: top;\n",
       "    }\n",
       "\n",
       "    .dataframe thead th {\n",
       "        text-align: right;\n",
       "    }\n",
       "</style>\n",
       "<table border=\"1\" class=\"dataframe\">\n",
       "  <thead>\n",
       "    <tr style=\"text-align: right;\">\n",
       "      <th></th>\n",
       "      <th>Business Analysis</th>\n",
       "      <th>Data Science</th>\n",
       "      <th>Data Analysis</th>\n",
       "    </tr>\n",
       "    <tr>\n",
       "      <th>date</th>\n",
       "      <th></th>\n",
       "      <th></th>\n",
       "      <th></th>\n",
       "    </tr>\n",
       "  </thead>\n",
       "  <tbody>\n",
       "    <tr>\n",
       "      <th>2021-10-10</th>\n",
       "      <td>29</td>\n",
       "      <td>41</td>\n",
       "      <td>37</td>\n",
       "    </tr>\n",
       "    <tr>\n",
       "      <th>2021-10-17</th>\n",
       "      <td>11</td>\n",
       "      <td>30</td>\n",
       "      <td>31</td>\n",
       "    </tr>\n",
       "    <tr>\n",
       "      <th>2021-10-24</th>\n",
       "      <td>15</td>\n",
       "      <td>38</td>\n",
       "      <td>38</td>\n",
       "    </tr>\n",
       "    <tr>\n",
       "      <th>2021-10-31</th>\n",
       "      <td>12</td>\n",
       "      <td>51</td>\n",
       "      <td>51</td>\n",
       "    </tr>\n",
       "    <tr>\n",
       "      <th>2021-11-07</th>\n",
       "      <td>12</td>\n",
       "      <td>24</td>\n",
       "      <td>36</td>\n",
       "    </tr>\n",
       "    <tr>\n",
       "      <th>2021-11-14</th>\n",
       "      <td>12</td>\n",
       "      <td>36</td>\n",
       "      <td>61</td>\n",
       "    </tr>\n",
       "    <tr>\n",
       "      <th>2021-11-21</th>\n",
       "      <td>16</td>\n",
       "      <td>23</td>\n",
       "      <td>43</td>\n",
       "    </tr>\n",
       "    <tr>\n",
       "      <th>2021-11-28</th>\n",
       "      <td>19</td>\n",
       "      <td>31</td>\n",
       "      <td>34</td>\n",
       "    </tr>\n",
       "    <tr>\n",
       "      <th>2021-12-05</th>\n",
       "      <td>24</td>\n",
       "      <td>24</td>\n",
       "      <td>20</td>\n",
       "    </tr>\n",
       "    <tr>\n",
       "      <th>2021-12-12</th>\n",
       "      <td>17</td>\n",
       "      <td>54</td>\n",
       "      <td>25</td>\n",
       "    </tr>\n",
       "    <tr>\n",
       "      <th>2021-12-19</th>\n",
       "      <td>14</td>\n",
       "      <td>23</td>\n",
       "      <td>23</td>\n",
       "    </tr>\n",
       "    <tr>\n",
       "      <th>2021-12-26</th>\n",
       "      <td>9</td>\n",
       "      <td>18</td>\n",
       "      <td>27</td>\n",
       "    </tr>\n",
       "    <tr>\n",
       "      <th>2022-01-02</th>\n",
       "      <td>4</td>\n",
       "      <td>41</td>\n",
       "      <td>33</td>\n",
       "    </tr>\n",
       "    <tr>\n",
       "      <th>2022-01-09</th>\n",
       "      <td>11</td>\n",
       "      <td>46</td>\n",
       "      <td>50</td>\n",
       "    </tr>\n",
       "    <tr>\n",
       "      <th>2022-01-16</th>\n",
       "      <td>15</td>\n",
       "      <td>49</td>\n",
       "      <td>38</td>\n",
       "    </tr>\n",
       "  </tbody>\n",
       "</table>\n",
       "</div>"
      ],
      "text/plain": [
       "            Business Analysis  Data Science  Data Analysis\n",
       "date                                                      \n",
       "2021-10-10                 29            41             37\n",
       "2021-10-17                 11            30             31\n",
       "2021-10-24                 15            38             38\n",
       "2021-10-31                 12            51             51\n",
       "2021-11-07                 12            24             36\n",
       "2021-11-14                 12            36             61\n",
       "2021-11-21                 16            23             43\n",
       "2021-11-28                 19            31             34\n",
       "2021-12-05                 24            24             20\n",
       "2021-12-12                 17            54             25\n",
       "2021-12-19                 14            23             23\n",
       "2021-12-26                  9            18             27\n",
       "2022-01-02                  4            41             33\n",
       "2022-01-09                 11            46             50\n",
       "2022-01-16                 15            49             38"
      ]
     },
     "execution_count": 6,
     "metadata": {},
     "output_type": "execute_result"
    }
   ],
   "source": [
    "data.tail(15) #inspecting the tail of the Dataset"
   ]
  },
  {
   "cell_type": "code",
   "execution_count": 7,
   "id": "2c6d1252",
   "metadata": {},
   "outputs": [
    {
     "data": {
      "text/plain": [
       "Business Analysis    int32\n",
       "Data Science         int32\n",
       "Data Analysis        int32\n",
       "dtype: object"
      ]
     },
     "execution_count": 7,
     "metadata": {},
     "output_type": "execute_result"
    }
   ],
   "source": [
    "data.dtypes"
   ]
  },
  {
   "cell_type": "code",
   "execution_count": 8,
   "id": "7e07838c",
   "metadata": {},
   "outputs": [
    {
     "name": "stdout",
     "output_type": "stream",
     "text": [
      "<class 'pandas.core.frame.DataFrame'>\n",
      "DatetimeIndex: 51 entries, 2021-01-31 to 2022-01-16\n",
      "Data columns (total 3 columns):\n",
      " #   Column             Non-Null Count  Dtype\n",
      "---  ------             --------------  -----\n",
      " 0   Business Analysis  51 non-null     int32\n",
      " 1   Data Science       51 non-null     int32\n",
      " 2   Data Analysis      51 non-null     int32\n",
      "dtypes: int32(3)\n",
      "memory usage: 1020.0 bytes\n"
     ]
    }
   ],
   "source": [
    "data.info()"
   ]
  },
  {
   "cell_type": "code",
   "execution_count": 9,
   "id": "b56958f2",
   "metadata": {},
   "outputs": [],
   "source": [
    "import matplotlib.pyplot as plt"
   ]
  },
  {
   "cell_type": "code",
   "execution_count": 10,
   "id": "21fe008f",
   "metadata": {},
   "outputs": [
    {
     "data": {
      "image/png": "[encoded data removed]",
      "text/plain": [
       "<Figure size 432x288 with 1 Axes>"
      ]
     },
     "metadata": {
      "needs_background": "light"
     },
     "output_type": "display_data"
    }
   ],
   "source": [
    "#plot data\n",
    "plt.plot(data)\n",
    "\n",
    "#add titles\n",
    "plt.suptitle('Data Analysis Searches on Google Trends')\n",
    "plt.xlabel('years')                       \n",
    "plt.ylabel('weekly searches')  \n",
    "\n",
    "#add legend\n",
    "plt.legend(keywords, loc='upper left')\n",
    "\n",
    "plt.show()\n",
    "\n"
   ]
  },
  {
   "cell_type": "code",
   "execution_count": 11,
   "id": "886dde19",
   "metadata": {},
   "outputs": [
    {
     "data": {
      "image/png": "[encoded data removed]",
      "text/plain": [
       "<Figure size 432x288 with 1 Axes>"
      ]
     },
     "metadata": {
      "needs_background": "light"
     },
     "output_type": "display_data"
    }
   ],
   "source": [
    "#compain course popularity\n",
    "focus = ['Business Analysis', 'Data Science'] \n",
    "\n",
    "plt.plot(data[focus])\n",
    "plt.legend(focus)\n",
    "plt.show()"
   ]
  },
  {
   "cell_type": "markdown",
   "id": "cc2078c6",
   "metadata": {},
   "source": [
    "# Separate Subplots for each Data Colunms"
   ]
  },
  {
   "cell_type": "code",
   "execution_count": 13,
   "id": "8ae1c648",
   "metadata": {},
   "outputs": [
    {
     "data": {
      "image/png": "[encoded data removed]",
      "text/plain": [
       "<Figure size 576x288 with 3 Axes>"
      ]
     },
     "metadata": {
      "needs_background": "light"
     },
     "output_type": "display_data"
    }
   ],
   "source": [
    "axs = data.plot.area(figsize=(8, 4), subplots=True)\n",
    "plt.suptitle('Business Analysis Searches on Google Trends in Nigeria from Jan 2021-Jan 2022')\n",
    "plt.savefig('data_science1.jpg' ,dpi=300, bbox_inches='tight')"
   ]
  },
  {
   "cell_type": "markdown",
   "id": "f8275539",
   "metadata": {},
   "source": [
    "Separate subplots for Business Analysis, Data Science and Data Analysis searches on Google in Nigeria from January 2021 - January 2022"
   ]
  },
  {
   "cell_type": "markdown",
   "id": "f6fce5ae",
   "metadata": {},
   "source": [
    "# What are the top State searching for it?"
   ]
  },
  {
   "cell_type": "code",
   "execution_count": 15,
   "id": "72136d67",
   "metadata": {},
   "outputs": [
    {
     "data": {
      "text/html": [
       "<div>\n",
       "<style scoped>\n",
       "    .dataframe tbody tr th:only-of-type {\n",
       "        vertical-align: middle;\n",
       "    }\n",
       "\n",
       "    .dataframe tbody tr th {\n",
       "        vertical-align: top;\n",
       "    }\n",
       "\n",
       "    .dataframe thead th {\n",
       "        text-align: right;\n",
       "    }\n",
       "</style>\n",
       "<table border=\"1\" class=\"dataframe\">\n",
       "  <thead>\n",
       "    <tr style=\"text-align: right;\">\n",
       "      <th></th>\n",
       "      <th>Data Science</th>\n",
       "    </tr>\n",
       "    <tr>\n",
       "      <th>geoName</th>\n",
       "      <th></th>\n",
       "    </tr>\n",
       "  </thead>\n",
       "  <tbody>\n",
       "    <tr>\n",
       "      <th>Ondo</th>\n",
       "      <td>44</td>\n",
       "    </tr>\n",
       "    <tr>\n",
       "      <th>Delta</th>\n",
       "      <td>42</td>\n",
       "    </tr>\n",
       "    <tr>\n",
       "      <th>Ogun State</th>\n",
       "      <td>42</td>\n",
       "    </tr>\n",
       "    <tr>\n",
       "      <th>Oyo</th>\n",
       "      <td>42</td>\n",
       "    </tr>\n",
       "    <tr>\n",
       "      <th>Lagos</th>\n",
       "      <td>39</td>\n",
       "    </tr>\n",
       "    <tr>\n",
       "      <th>Rivers</th>\n",
       "      <td>36</td>\n",
       "    </tr>\n",
       "    <tr>\n",
       "      <th>Edo</th>\n",
       "      <td>33</td>\n",
       "    </tr>\n",
       "    <tr>\n",
       "      <th>Federal Capital Territory</th>\n",
       "      <td>32</td>\n",
       "    </tr>\n",
       "    <tr>\n",
       "      <th>Enugu</th>\n",
       "      <td>28</td>\n",
       "    </tr>\n",
       "    <tr>\n",
       "      <th>Kwara</th>\n",
       "      <td>28</td>\n",
       "    </tr>\n",
       "  </tbody>\n",
       "</table>\n",
       "</div>"
      ],
      "text/plain": [
       "                           Data Science\n",
       "geoName                                \n",
       "Ondo                                 44\n",
       "Delta                                42\n",
       "Ogun State                           42\n",
       "Oyo                                  42\n",
       "Lagos                                39\n",
       "Rivers                               36\n",
       "Edo                                  33\n",
       "Federal Capital Territory            32\n",
       "Enugu                                28\n",
       "Kwara                                28"
      ]
     },
     "execution_count": 15,
     "metadata": {},
     "output_type": "execute_result"
    }
   ],
   "source": [
    "import pandas as pd\n",
    "\n",
    "#extract state-level kewords search data\n",
    "Top_state= pytrends.interest_by_region(resolution='NG', inc_low_vol=True)\n",
    "\n",
    "#get states with the highest searches of \"Data Science\"\n",
    "data2 = Top_state['Data Science'].nlargest(10)\n",
    "\n",
    "#convert to dataframe\n",
    "data2 = data2.to_frame()\n",
    "\n",
    "data2"
   ]
  },
  {
   "cell_type": "markdown",
   "id": "f605d9c2",
   "metadata": {},
   "source": [
    "# Visualization"
   ]
  },
  {
   "cell_type": "code",
   "execution_count": 16,
   "id": "740085db",
   "metadata": {},
   "outputs": [
    {
     "data": {
      "image/png": "[encoded data removed]",
      "text/plain": [
       "<Figure size 432x288 with 1 Axes>"
      ]
     },
     "metadata": {
      "needs_background": "light"
     },
     "output_type": "display_data"
    }
   ],
   "source": [
    "#plot a bar chart\n",
    "data2.plot(kind='bar', legend=None)\n",
    "\n",
    "#titles\n",
    "plt.suptitle('Nigerian States with the highest number of Data Science searches on Google Between Jan 2021- Jan 2022')\n",
    "plt.ylabel('Avg_Number of searches for the past 1 yr')\n",
    "plt.xlabel('States')\n",
    "\n",
    "plt.savefig('data_science2.jpg' ,dpi=300, bbox_inches='tight')\n",
    "plt.show()\n"
   ]
  },
  {
   "cell_type": "markdown",
   "id": "f484522a",
   "metadata": {},
   "source": [
    "# Plottig Results For Multiple States"
   ]
  },
  {
   "cell_type": "code",
   "execution_count": 17,
   "id": "0181a120",
   "metadata": {},
   "outputs": [
    {
     "data": {
      "text/html": [
       "<div>\n",
       "<style scoped>\n",
       "    .dataframe tbody tr th:only-of-type {\n",
       "        vertical-align: middle;\n",
       "    }\n",
       "\n",
       "    .dataframe tbody tr th {\n",
       "        vertical-align: top;\n",
       "    }\n",
       "\n",
       "    .dataframe thead th {\n",
       "        text-align: right;\n",
       "    }\n",
       "</style>\n",
       "<table border=\"1\" class=\"dataframe\">\n",
       "  <thead>\n",
       "    <tr style=\"text-align: right;\">\n",
       "      <th></th>\n",
       "      <th>Business Analysis</th>\n",
       "      <th>Data Science</th>\n",
       "      <th>Data Analysis</th>\n",
       "    </tr>\n",
       "    <tr>\n",
       "      <th>geoName</th>\n",
       "      <th></th>\n",
       "      <th></th>\n",
       "      <th></th>\n",
       "    </tr>\n",
       "  </thead>\n",
       "  <tbody>\n",
       "    <tr>\n",
       "      <th>Abia</th>\n",
       "      <td>0</td>\n",
       "      <td>0</td>\n",
       "      <td>0</td>\n",
       "    </tr>\n",
       "    <tr>\n",
       "      <th>Adamawa</th>\n",
       "      <td>0</td>\n",
       "      <td>0</td>\n",
       "      <td>0</td>\n",
       "    </tr>\n",
       "    <tr>\n",
       "      <th>Akwa Ibom</th>\n",
       "      <td>0</td>\n",
       "      <td>0</td>\n",
       "      <td>0</td>\n",
       "    </tr>\n",
       "    <tr>\n",
       "      <th>Anambra</th>\n",
       "      <td>0</td>\n",
       "      <td>0</td>\n",
       "      <td>0</td>\n",
       "    </tr>\n",
       "    <tr>\n",
       "      <th>Bauchi</th>\n",
       "      <td>0</td>\n",
       "      <td>0</td>\n",
       "      <td>0</td>\n",
       "    </tr>\n",
       "    <tr>\n",
       "      <th>Bayelsa</th>\n",
       "      <td>0</td>\n",
       "      <td>0</td>\n",
       "      <td>0</td>\n",
       "    </tr>\n",
       "    <tr>\n",
       "      <th>Benue</th>\n",
       "      <td>0</td>\n",
       "      <td>0</td>\n",
       "      <td>0</td>\n",
       "    </tr>\n",
       "    <tr>\n",
       "      <th>Borno</th>\n",
       "      <td>0</td>\n",
       "      <td>0</td>\n",
       "      <td>100</td>\n",
       "    </tr>\n",
       "    <tr>\n",
       "      <th>Cross River</th>\n",
       "      <td>0</td>\n",
       "      <td>0</td>\n",
       "      <td>0</td>\n",
       "    </tr>\n",
       "    <tr>\n",
       "      <th>Delta</th>\n",
       "      <td>0</td>\n",
       "      <td>42</td>\n",
       "      <td>58</td>\n",
       "    </tr>\n",
       "    <tr>\n",
       "      <th>Ebonyi</th>\n",
       "      <td>0</td>\n",
       "      <td>0</td>\n",
       "      <td>0</td>\n",
       "    </tr>\n",
       "    <tr>\n",
       "      <th>Edo</th>\n",
       "      <td>0</td>\n",
       "      <td>33</td>\n",
       "      <td>67</td>\n",
       "    </tr>\n",
       "    <tr>\n",
       "      <th>Ekiti</th>\n",
       "      <td>0</td>\n",
       "      <td>0</td>\n",
       "      <td>0</td>\n",
       "    </tr>\n",
       "    <tr>\n",
       "      <th>Enugu</th>\n",
       "      <td>0</td>\n",
       "      <td>28</td>\n",
       "      <td>72</td>\n",
       "    </tr>\n",
       "    <tr>\n",
       "      <th>Federal Capital Territory</th>\n",
       "      <td>21</td>\n",
       "      <td>32</td>\n",
       "      <td>47</td>\n",
       "    </tr>\n",
       "    <tr>\n",
       "      <th>Gombe</th>\n",
       "      <td>0</td>\n",
       "      <td>0</td>\n",
       "      <td>0</td>\n",
       "    </tr>\n",
       "    <tr>\n",
       "      <th>Imo</th>\n",
       "      <td>0</td>\n",
       "      <td>0</td>\n",
       "      <td>0</td>\n",
       "    </tr>\n",
       "    <tr>\n",
       "      <th>Jigawa</th>\n",
       "      <td>0</td>\n",
       "      <td>0</td>\n",
       "      <td>0</td>\n",
       "    </tr>\n",
       "    <tr>\n",
       "      <th>Kaduna</th>\n",
       "      <td>0</td>\n",
       "      <td>20</td>\n",
       "      <td>80</td>\n",
       "    </tr>\n",
       "    <tr>\n",
       "      <th>Kano</th>\n",
       "      <td>0</td>\n",
       "      <td>0</td>\n",
       "      <td>100</td>\n",
       "    </tr>\n",
       "    <tr>\n",
       "      <th>Katsina</th>\n",
       "      <td>0</td>\n",
       "      <td>0</td>\n",
       "      <td>0</td>\n",
       "    </tr>\n",
       "    <tr>\n",
       "      <th>Kebbi</th>\n",
       "      <td>0</td>\n",
       "      <td>0</td>\n",
       "      <td>0</td>\n",
       "    </tr>\n",
       "    <tr>\n",
       "      <th>Kogi</th>\n",
       "      <td>0</td>\n",
       "      <td>0</td>\n",
       "      <td>0</td>\n",
       "    </tr>\n",
       "    <tr>\n",
       "      <th>Kwara</th>\n",
       "      <td>0</td>\n",
       "      <td>28</td>\n",
       "      <td>72</td>\n",
       "    </tr>\n",
       "    <tr>\n",
       "      <th>Lagos</th>\n",
       "      <td>18</td>\n",
       "      <td>39</td>\n",
       "      <td>43</td>\n",
       "    </tr>\n",
       "    <tr>\n",
       "      <th>Nasarawa</th>\n",
       "      <td>0</td>\n",
       "      <td>0</td>\n",
       "      <td>0</td>\n",
       "    </tr>\n",
       "    <tr>\n",
       "      <th>Niger</th>\n",
       "      <td>0</td>\n",
       "      <td>0</td>\n",
       "      <td>0</td>\n",
       "    </tr>\n",
       "    <tr>\n",
       "      <th>Ogun State</th>\n",
       "      <td>20</td>\n",
       "      <td>42</td>\n",
       "      <td>38</td>\n",
       "    </tr>\n",
       "    <tr>\n",
       "      <th>Ondo</th>\n",
       "      <td>0</td>\n",
       "      <td>44</td>\n",
       "      <td>56</td>\n",
       "    </tr>\n",
       "    <tr>\n",
       "      <th>Osun</th>\n",
       "      <td>0</td>\n",
       "      <td>28</td>\n",
       "      <td>72</td>\n",
       "    </tr>\n",
       "    <tr>\n",
       "      <th>Oyo</th>\n",
       "      <td>0</td>\n",
       "      <td>42</td>\n",
       "      <td>58</td>\n",
       "    </tr>\n",
       "    <tr>\n",
       "      <th>Plateau</th>\n",
       "      <td>0</td>\n",
       "      <td>0</td>\n",
       "      <td>100</td>\n",
       "    </tr>\n",
       "    <tr>\n",
       "      <th>Rivers</th>\n",
       "      <td>20</td>\n",
       "      <td>36</td>\n",
       "      <td>44</td>\n",
       "    </tr>\n",
       "    <tr>\n",
       "      <th>Sokoto</th>\n",
       "      <td>0</td>\n",
       "      <td>0</td>\n",
       "      <td>0</td>\n",
       "    </tr>\n",
       "    <tr>\n",
       "      <th>Taraba</th>\n",
       "      <td>0</td>\n",
       "      <td>0</td>\n",
       "      <td>0</td>\n",
       "    </tr>\n",
       "    <tr>\n",
       "      <th>Yobe</th>\n",
       "      <td>0</td>\n",
       "      <td>0</td>\n",
       "      <td>0</td>\n",
       "    </tr>\n",
       "    <tr>\n",
       "      <th>Zamfara</th>\n",
       "      <td>0</td>\n",
       "      <td>0</td>\n",
       "      <td>0</td>\n",
       "    </tr>\n",
       "  </tbody>\n",
       "</table>\n",
       "</div>"
      ],
      "text/plain": [
       "                           Business Analysis  Data Science  Data Analysis\n",
       "geoName                                                                  \n",
       "Abia                                       0             0              0\n",
       "Adamawa                                    0             0              0\n",
       "Akwa Ibom                                  0             0              0\n",
       "Anambra                                    0             0              0\n",
       "Bauchi                                     0             0              0\n",
       "Bayelsa                                    0             0              0\n",
       "Benue                                      0             0              0\n",
       "Borno                                      0             0            100\n",
       "Cross River                                0             0              0\n",
       "Delta                                      0            42             58\n",
       "Ebonyi                                     0             0              0\n",
       "Edo                                        0            33             67\n",
       "Ekiti                                      0             0              0\n",
       "Enugu                                      0            28             72\n",
       "Federal Capital Territory                 21            32             47\n",
       "Gombe                                      0             0              0\n",
       "Imo                                        0             0              0\n",
       "Jigawa                                     0             0              0\n",
       "Kaduna                                     0            20             80\n",
       "Kano                                       0             0            100\n",
       "Katsina                                    0             0              0\n",
       "Kebbi                                      0             0              0\n",
       "Kogi                                       0             0              0\n",
       "Kwara                                      0            28             72\n",
       "Lagos                                     18            39             43\n",
       "Nasarawa                                   0             0              0\n",
       "Niger                                      0             0              0\n",
       "Ogun State                                20            42             38\n",
       "Ondo                                       0            44             56\n",
       "Osun                                       0            28             72\n",
       "Oyo                                        0            42             58\n",
       "Plateau                                    0             0            100\n",
       "Rivers                                    20            36             44\n",
       "Sokoto                                     0             0              0\n",
       "Taraba                                     0             0              0\n",
       "Yobe                                       0             0              0\n",
       "Zamfara                                    0             0              0"
      ]
     },
     "execution_count": 17,
     "metadata": {},
     "output_type": "execute_result"
    }
   ],
   "source": [
    "data3= pytrends.interest_by_region(resolution='NG', inc_low_vol=True)\n",
    "data3"
   ]
  },
  {
   "cell_type": "markdown",
   "id": "0739a3e9",
   "metadata": {},
   "source": [
    "# Visualizing the above results"
   ]
  },
  {
   "cell_type": "code",
   "execution_count": 19,
   "id": "63b44c18",
   "metadata": {},
   "outputs": [
    {
     "data": {
      "image/png": "[encoded data removed]",
      "text/plain": [
       "<Figure size 1080x288 with 1 Axes>"
      ]
     },
     "metadata": {
      "needs_background": "light"
     },
     "output_type": "display_data"
    }
   ],
   "source": [
    "\n",
    "\n",
    "data3 = pytrends.interest_by_region('Business Analysis')\n",
    "\n",
    "data3.reset_index().plot(x='geoName', y=['Business Analysis', 'Data Science', 'Data Analysis',], kind ='bar', stacked=True, title=\"Searches by States\")\n",
    "\n",
    "plt.rcParams[\"figure.figsize\"] = [20, 5]\n",
    "plt.xlabel(\"States\")\n",
    "plt.ylabel(\"Ranking\")\n",
    "plt.savefig('data_science3.jpg' ,dpi=300, bbox_inches='tight')\n",
    "plt.show()\n"
   ]
  },
  {
   "cell_type": "code",
   "execution_count": 20,
   "id": "a9a78f78",
   "metadata": {},
   "outputs": [],
   "source": [
    "# build the payload\n",
    "RelatedS= pytrends.build_payload(kw_list=['Data Analysis'], timeframe='today 12-m', geo='NG', gprop='') \n",
    "\n",
    "# get related topics\n",
    "data_relatedkeyword = pytrends.related_topics()"
   ]
  },
  {
   "cell_type": "code",
   "execution_count": 21,
   "id": "38459b58",
   "metadata": {},
   "outputs": [
    {
     "name": "stdout",
     "output_type": "stream",
     "text": [
      "   value formattedValue  hasData  \\\n",
      "0    100            100     True   \n",
      "1     98             98     True   \n",
      "2     80             80     True   \n",
      "3     10             10     True   \n",
      "4      5              5     True   \n",
      "\n",
      "                                                link    topic_mid  \\\n",
      "0  /trends/explore?q=/m/026sq&date=today+12-m&geo=NG     /m/026sq   \n",
      "1  /trends/explore?q=/g/121vr6rm&date=today+12-m&...  /g/121vr6rm   \n",
      "2  /trends/explore?q=/m/07zy4y&date=today+12-m&ge...    /m/07zy4y   \n",
      "3  /trends/explore?q=/m/06cs1&date=today+12-m&geo=NG     /m/06cs1   \n",
      "4  /trends/explore?q=/m/02rf_k8&date=today+12-m&g...   /m/02rf_k8   \n",
      "\n",
      "       topic_title         topic_type  \n",
      "0             Data              Topic  \n",
      "1         Analysis              Topic  \n",
      "2    Data analysis              Topic  \n",
      "3         Research  Organization type  \n",
      "4  Data collection              Topic  \n"
     ]
    }
   ],
   "source": [
    "# display top 5 rising results for the Machine Learning keyword\n",
    "data_relatedkeyword = pytrends.related_topics()\n",
    "print(data_relatedkeyword['Data Analysis']['top'].head(5)) "
   ]
  },
  {
   "cell_type": "markdown",
   "id": "19700ccc",
   "metadata": {},
   "source": [
    "In the ‘rising’ set of results, we can see that Data and Analysis searches are among the top rising topics related to Data Analysis.\n",
    "\n",
    "Next,lets see the top topics:"
   ]
  },
  {
   "cell_type": "code",
   "execution_count": 22,
   "id": "57d72f53",
   "metadata": {},
   "outputs": [
    {
     "name": "stdout",
     "output_type": "stream",
     "text": [
      "    value formattedValue                                               link  \\\n",
      "0  154750       Breakout  /trends/explore?q=/m/04_tv&date=today+12-m&geo=NG   \n",
      "1  153750       Breakout  /trends/explore?q=/m/03y39&date=today+12-m&geo=NG   \n",
      "2  128500       Breakout  /trends/explore?q=/m/01m3v&date=today+12-m&geo=NG   \n",
      "3  103200       Breakout  /trends/explore?q=/m/02gcn9&date=today+12-m&ge...   \n",
      "4  102800       Breakout  /trends/explore?q=/m/020gjv&date=today+12-m&ge...   \n",
      "\n",
      "   topic_mid           topic_title topic_type  \n",
      "0   /m/04_tv            Management      Topic  \n",
      "1   /m/03y39           Information      Topic  \n",
      "2   /m/01m3v              Computer      Topic  \n",
      "3  /m/02gcn9             Analytics      Topic  \n",
      "4  /m/020gjv  Qualitative research      Topic  \n"
     ]
    }
   ],
   "source": [
    "# display top 5 top results for the chicken keyword\n",
    "data_relatedkeyword = pytrends.related_topics()\n",
    "print(data_relatedkeyword['Data Analysis']['rising'].head(5)) "
   ]
  },
  {
   "cell_type": "markdown",
   "id": "8364091a",
   "metadata": {},
   "source": [
    "These results are less exciting because the word Data Analysis does not exist in any of the topic_title rows. However, you can see that the topic_type or category changes. To google, these types of searches provide somewhat different results.\n",
    "\n",
    "## Next, lets look at related queries:"
   ]
  },
  {
   "cell_type": "code",
   "execution_count": 23,
   "id": "286f95a4",
   "metadata": {},
   "outputs": [
    {
     "name": "stdout",
     "output_type": "stream",
     "text": [
      "{'Data Analysis': {'top':                      query  value\n",
      "0    what is data analysis    100\n",
      "1  method of data analysis     31, 'rising':                      query   value\n",
      "0  method of data analysis  211100\n",
      "1    what is data analysis     110}}\n"
     ]
    }
   ],
   "source": [
    "# build the payload\n",
    "pytrends.build_payload(kw_list=['Data Analysis'], timeframe='today 12-m', geo='NG') \n",
    "\n",
    "# get related queries\n",
    "data2_relatedqueries = pytrends.related_queries()\n",
    "\n",
    "# display data2_relatedqueries\n",
    "print(data2_relatedqueries )"
   ]
  },
  {
   "cell_type": "markdown",
   "id": "d5df50f4",
   "metadata": {},
   "source": [
    "Like related_topics, related_queries returns a dictionary containing top and rising query results.\n",
    "\n",
    "## Finally, we can get suggested search keywords as shown below:"
   ]
  },
  {
   "cell_type": "code",
   "execution_count": 24,
   "id": "de8b1a8d",
   "metadata": {},
   "outputs": [
    {
     "name": "stdout",
     "output_type": "stream",
     "text": [
      "[{'mid': '/g/11bzyq48jx', 'title': 'IBSAT', 'type': 'Admissions exam'}, {'mid': '/m/02h6p2j', 'title': 'Management Analyst', 'type': 'Occupation'}, {'mid': '/m/02h6nfh', 'title': 'Budget Analyst', 'type': 'Occupation'}]\n"
     ]
    }
   ],
   "source": [
    "# get suggestions\n",
    "data_suggestedkeywords = pytrends.suggestions('Analysts')\n",
    "\n",
    "# display data_suggestedkeywords\n",
    "print(data_suggestedkeywords)"
   ]
  },
  {
   "cell_type": "markdown",
   "id": "740d8b06",
   "metadata": {},
   "source": [
    "Unlike related_topics and related_queries, suggestions does not require that a payload be built first. Instead, the keyword is passed to the method. The suggestions are just like the “autocomplete” information you get when typing in your search."
   ]
  },
  {
   "cell_type": "code",
   "execution_count": null,
   "id": "4200b63e",
   "metadata": {},
   "outputs": [],
   "source": []
  }
 ],
 "metadata": {
  "kernelspec": {
   "display_name": "Python 3",
   "language": "python",
   "name": "python3"
  },
  "language_info": {
   "codemirror_mode": {
    "name": "ipython",
    "version": 3
   },
   "file_extension": ".py",
   "mimetype": "text/x-python",
   "name": "python",
   "nbconvert_exporter": "python",
   "pygments_lexer": "ipython3",
   "version": "3.8.8"
  }
 },
 "nbformat": 4,
 "nbformat_minor": 5
}
